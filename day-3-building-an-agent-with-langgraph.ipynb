{
 "cells": [
  {
   "cell_type": "markdown",
   "id": "11d0db93",
   "metadata": {
    "id": "b6e13eef3f5d",
    "papermill": {
     "duration": 0.010345,
     "end_time": "2024-11-13T07:59:13.665608",
     "exception": false,
     "start_time": "2024-11-13T07:59:13.655263",
     "status": "completed"
    },
    "tags": []
   },
   "source": [
    "##### Copyright 2024 Google LLC."
   ]
  },
  {
   "cell_type": "code",
   "execution_count": 1,
   "id": "c06bedc8",
   "metadata": {
    "cellView": "form",
    "execution": {
     "iopub.execute_input": "2024-11-13T07:59:13.686010Z",
     "iopub.status.busy": "2024-11-13T07:59:13.685491Z",
     "iopub.status.idle": "2024-11-13T07:59:13.691738Z",
     "shell.execute_reply": "2024-11-13T07:59:13.690907Z"
    },
    "id": "d6597b11df14",
    "jupyter": {
     "source_hidden": true
    },
    "papermill": {
     "duration": 0.018881,
     "end_time": "2024-11-13T07:59:13.693920",
     "exception": false,
     "start_time": "2024-11-13T07:59:13.675039",
     "status": "completed"
    },
    "tags": []
   },
   "outputs": [],
   "source": [
    "# @title Licensed under the Apache License, Version 2.0 (the \"License\");\n",
    "# you may not use this file except in compliance with the License.\n",
    "# You may obtain a copy of the License at\n",
    "#\n",
    "# https://www.apache.org/licenses/LICENSE-2.0\n",
    "#\n",
    "# Unless required by applicable law or agreed to in writing, software\n",
    "# distributed under the License is distributed on an \"AS IS\" BASIS,\n",
    "# WITHOUT WARRANTIES OR CONDITIONS OF ANY KIND, either express or implied.\n",
    "# See the License for the specific language governing permissions and\n",
    "# limitations under the License."
   ]
  },
  {
   "cell_type": "markdown",
   "id": "fe203735",
   "metadata": {
    "id": "KDnGropl9aiH",
    "papermill": {
     "duration": 0.008607,
     "end_time": "2024-11-13T07:59:13.711546",
     "exception": false,
     "start_time": "2024-11-13T07:59:13.702939",
     "status": "completed"
    },
    "tags": []
   },
   "source": [
    "# Day 3 - Building an agent with LangGraph and the Gemini API\n",
    "\n",
    "Welcome back to the Kaggle 5-day Generative AI course!\n",
    "\n",
    "In this notebook, you will use [LangGraph](https://www.langchain.com/langgraph) to define a stateful graph-based application built on top of the Gemini API.\n",
    "\n",
    "You will build a simulated cafe ordering system, called BaristaBot. It will provide a looping chat interface to customers where they can order cafe beverages using natural language, and you will build nodes to represent the cafe's live menu and the \"back room\" ordering system.\n",
    "\n",
    "BaristaBot is used in other Gemini API demos, so if you are looking to explore something with a more minimal implementation, check out the [BaristaBot function calling example](https://github.com/google-gemini/cookbook/blob/main/examples/Agents_Function_Calling_Barista_Bot.ipynb) that implements a similar system using only the Gemini API Python SDK and function calling.\n",
    "\n",
    "## **IMPORTANT!**\n",
    "\n",
    "The app built in this notebook takes **user input** using a **text box** ([Python's `input`](https://docs.python.org/3/library/functions.html#input)). These are commented-out to ensure that you can use the `Run all` feature without interruption. Keep an eye out for the steps where you need to uncomment the `.invoke(...)` calls in order to interact with the app.\n",
    "\n",
    "If you wish to save a version of this notebook with `Save and Run all`, you will need to **re-comment** the lines you commented-out to ensure that the notebook can run without human input.\n",
    "\n",
    "## For help\n",
    "\n",
    "**Common issues are covered in the [FAQ and troubleshooting guide](https://www.kaggle.com/code/markishere/day-0-troubleshooting-and-faqs).**"
   ]
  },
  {
   "cell_type": "markdown",
   "id": "cdb690a2",
   "metadata": {
    "id": "aKMOcAKnGBPL",
    "papermill": {
     "duration": 0.008402,
     "end_time": "2024-11-13T07:59:13.729794",
     "exception": false,
     "start_time": "2024-11-13T07:59:13.721392",
     "status": "completed"
    },
    "tags": []
   },
   "source": [
    "## Get set up\n",
    "\n",
    "Start by installing and importing the LangGraph SDK and LangChain support for the Gemini API."
   ]
  },
  {
   "cell_type": "code",
   "execution_count": 2,
   "id": "8a10ec4e",
   "metadata": {
    "execution": {
     "iopub.execute_input": "2024-11-13T07:59:13.749538Z",
     "iopub.status.busy": "2024-11-13T07:59:13.748600Z",
     "iopub.status.idle": "2024-11-13T07:59:31.376089Z",
     "shell.execute_reply": "2024-11-13T07:59:31.374342Z"
    },
    "id": "04fZ8d37ifOS",
    "papermill": {
     "duration": 17.640221,
     "end_time": "2024-11-13T07:59:31.378798",
     "exception": false,
     "start_time": "2024-11-13T07:59:13.738577",
     "status": "completed"
    },
    "tags": []
   },
   "outputs": [
    {
     "name": "stdout",
     "output_type": "stream",
     "text": [
      "\u001b[31mERROR: pip's dependency resolver does not currently take into account all the packages that are installed. This behaviour is the source of the following dependency conflicts.\r\n",
      "google-cloud-bigquery 2.34.4 requires packaging<22.0dev,>=14.3, but you have packaging 24.2 which is incompatible.\r\n",
      "jupyterlab 4.2.5 requires jupyter-lsp>=2.0.0, but you have jupyter-lsp 1.5.1 which is incompatible.\r\n",
      "jupyterlab-lsp 5.1.0 requires jupyter-lsp>=2.0.0, but you have jupyter-lsp 1.5.1 which is incompatible.\r\n",
      "kfp 2.5.0 requires google-cloud-storage<3,>=2.2.1, but you have google-cloud-storage 1.44.0 which is incompatible.\r\n",
      "kfp 2.5.0 requires requests-toolbelt<1,>=0.8.0, but you have requests-toolbelt 1.0.0 which is incompatible.\r\n",
      "libpysal 4.9.2 requires shapely>=2.0.1, but you have shapely 1.8.5.post1 which is incompatible.\r\n",
      "thinc 8.3.2 requires numpy<2.1.0,>=2.0.0; python_version >= \"3.9\", but you have numpy 1.26.4 which is incompatible.\r\n",
      "ydata-profiling 4.10.0 requires scipy<1.14,>=1.4.1, but you have scipy 1.14.1 which is incompatible.\u001b[0m\u001b[31m\r\n",
      "\u001b[0mNote: you may need to restart the kernel to use updated packages.\n"
     ]
    }
   ],
   "source": [
    "%pip install -qU 'langgraph==0.2.45' 'langchain-google-genai==2.0.4'"
   ]
  },
  {
   "cell_type": "markdown",
   "id": "ab2d66d8",
   "metadata": {
    "papermill": {
     "duration": 0.008971,
     "end_time": "2024-11-13T07:59:31.397179",
     "exception": false,
     "start_time": "2024-11-13T07:59:31.388208",
     "status": "completed"
    },
    "tags": []
   },
   "source": [
    "You may see output containing `ERROR: pip's dependency resolver does not currently take into account all the packages that are installed` - this is OK, the packages are still installed and compatible for this codelab.\n",
    "\n",
    "You do not neeed to restart the kernel."
   ]
  },
  {
   "cell_type": "markdown",
   "id": "08620232",
   "metadata": {
    "id": "GecNc73VGfpk",
    "papermill": {
     "duration": 0.008899,
     "end_time": "2024-11-13T07:59:31.415365",
     "exception": false,
     "start_time": "2024-11-13T07:59:31.406466",
     "status": "completed"
    },
    "tags": []
   },
   "source": [
    "### Set up your API key\n",
    "\n",
    "The `GOOGLE_API_KEY` environment variable can be set to automatically configure the underlying API. This works for both the official Gemini Python SDK and for LangChain/LangGraph. \n",
    "\n",
    "To run the following cell, your API key must be stored it in a [Kaggle secret](https://www.kaggle.com/discussions/product-feedback/114053) named `GOOGLE_API_KEY`.\n",
    "\n",
    "If you don't already have an API key, you can grab one from [AI Studio](https://aistudio.google.com/app/apikey). You can find [detailed instructions in the docs](https://ai.google.dev/gemini-api/docs/api-key).\n",
    "\n",
    "To make the key available through Kaggle secrets, choose `Secrets` from the `Add-ons` menu and follow the instructions to add your key or enable it for this notebook."
   ]
  },
  {
   "cell_type": "code",
   "execution_count": 3,
   "id": "6b31e84d",
   "metadata": {
    "execution": {
     "iopub.execute_input": "2024-11-13T07:59:31.435810Z",
     "iopub.status.busy": "2024-11-13T07:59:31.435340Z",
     "iopub.status.idle": "2024-11-13T07:59:31.716773Z",
     "shell.execute_reply": "2024-11-13T07:59:31.715658Z"
    },
    "id": "xaiioUQni_ga",
    "papermill": {
     "duration": 0.295024,
     "end_time": "2024-11-13T07:59:31.719505",
     "exception": false,
     "start_time": "2024-11-13T07:59:31.424481",
     "status": "completed"
    },
    "tags": []
   },
   "outputs": [],
   "source": [
    "import os\n",
    "from kaggle_secrets import UserSecretsClient\n",
    "\n",
    "GOOGLE_API_KEY = UserSecretsClient().get_secret(\"GOOGLE_API_KEY\")\n",
    "os.environ[\"GOOGLE_API_KEY\"] = GOOGLE_API_KEY"
   ]
  },
  {
   "attachments": {
    "aaab7989-4eb8-41bc-8406-43ad6a6fb84c.png": {
     "image/png": "[encoded data removed]"
    }
   },
   "cell_type": "markdown",
   "id": "17e5895c",
   "metadata": {
    "id": "e67a91692d36",
    "papermill": {
     "duration": 0.008882,
     "end_time": "2024-11-13T07:59:31.737941",
     "exception": false,
     "start_time": "2024-11-13T07:59:31.729059",
     "status": "completed"
    },
    "tags": []
   },
   "source": [
    "If you received an error response along the lines of `No user secrets exist for kernel id ...`, then you need to add your API key via `Add-ons`, `Secrets` **and** enable it.\n",
    "\n",
    "![Screenshot of the checkbox to enable GOOGLE_API_KEY secret](https://storage.googleapis.com/kaggle-media/Images/5gdai_sc_3.png)"
   ]
  },
  {
   "cell_type": "markdown",
   "id": "6e8e11ef",
   "metadata": {
    "jp-MarkdownHeadingCollapsed": true,
    "papermill": {
     "duration": 0.008702,
     "end_time": "2024-11-13T07:59:31.755745",
     "exception": false,
     "start_time": "2024-11-13T07:59:31.747043",
     "status": "completed"
    },
    "tags": []
   },
   "source": [
    "## Key concepts\n",
    "\n",
    "LangGraph applications are built around a **graph** structure. As the developer, you define an application graph that models the state transitions for your application. Your app will define a **state** schema, and an instance of that schema is propagated through the graph.\n",
    "\n",
    "Each **node** in the graph represents an action or step that can be taken. Nodes will make changes to the state in some way through code that you define. These changes can be the result of invoking an LLM, by calling an API, or executing any logic that the node defines.\n",
    "\n",
    "Each **edge** in the graph represents a transition between states, defining the flow of the program. Edge transitions can be fixed, for example if you define a text-only chatbot where output is always displayed to a user, you may always transition from `chatbot -> user`. The transitions can also be conditional, allowing you to add branching (like an `if-else` statement) or looping (like `for` or `while` loops).\n",
    "\n",
    "LangGraph is highly extensible and provides a number of features that are not part of this tutorial, such as memory, persistance and streaming. To better understand the key concepts and philophies behind LangGraph, check out their [Conceptual guides](https://langchain-ai.github.io/langgraph/concepts/) and [High-level overview](https://langchain-ai.github.io/langgraph/concepts/high_level/)."
   ]
  },
  {
   "cell_type": "markdown",
   "id": "b6e075c6",
   "metadata": {
    "id": "IGShelaFLKP0",
    "papermill": {
     "duration": 0.00873,
     "end_time": "2024-11-13T07:59:31.773628",
     "exception": false,
     "start_time": "2024-11-13T07:59:31.764898",
     "status": "completed"
    },
    "tags": []
   },
   "source": [
    "## Define core instructions\n",
    "\n",
    "State is a fundamental concept for a LangGraph app. A state object is passed between every node and transition in the app. Here you define a state object, `OrderState`, that holds the conversation history, a structured order, and a flag indicating if the customer has finished placing their order. For simplicity, the \"structure\" in this order is just a list of strings, but this can be expanded to any Python data structure.\n",
    "\n",
    "In Python, the LangGraph state object is a Python [dictionary](https://docs.python.org/3/library/stdtypes.html#dict). You can provide a schema for this dictionary by defining it as a [`TypedDict`](https://docs.python.org/3/library/typing.html#typing.TypedDict).\n",
    "\n",
    "Here you also define the system instruction that the Gemini model will use. You can capture tone and style here, as well as the playbook under which the chatbot should operate."
   ]
  },
  {
   "cell_type": "code",
   "execution_count": 4,
   "id": "4c2cad47",
   "metadata": {
    "execution": {
     "iopub.execute_input": "2024-11-13T07:59:31.793694Z",
     "iopub.status.busy": "2024-11-13T07:59:31.793292Z",
     "iopub.status.idle": "2024-11-13T07:59:32.852155Z",
     "shell.execute_reply": "2024-11-13T07:59:32.851177Z"
    },
    "id": "2RJQRlfVjqkJ",
    "papermill": {
     "duration": 1.07198,
     "end_time": "2024-11-13T07:59:32.854709",
     "exception": false,
     "start_time": "2024-11-13T07:59:31.782729",
     "status": "completed"
    },
    "tags": []
   },
   "outputs": [],
   "source": [
    "from typing import Annotated\n",
    "from typing_extensions import TypedDict\n",
    "\n",
    "from langgraph.graph.message import add_messages\n",
    "\n",
    "\n",
    "class OrderState(TypedDict):\n",
    "    \"\"\"State representing the customer's order conversation.\"\"\"\n",
    "\n",
    "    # The chat conversation. This preserves the conversation history\n",
    "    # between nodes. The `add_messages` annotation indicates to LangGraph\n",
    "    # that state is updated by appending returned messages, not replacing\n",
    "    # them.\n",
    "    messages: Annotated[list, add_messages]\n",
    "\n",
    "    # The customer's in-progress order.\n",
    "    order: list[str]\n",
    "\n",
    "    # Flag indicating that the order is placed and completed.\n",
    "    finished: bool\n",
    "\n",
    "\n",
    "# The system instruction defines how the chatbot is expected to behave and includes\n",
    "# rules for when to call different functions, as well as rules for the conversation, such\n",
    "# as tone and what is permitted for discussion.\n",
    "BARISTABOT_SYSINT = (\n",
    "    \"system\",  # 'system' indicates the message is a system instruction.\n",
    "    \"You are a BaristaBot, an interactive cafe ordering system. A human will talk to you about the \"\n",
    "    \"available products you have and you will answer any questions about menu items (and only about \"\n",
    "    \"menu items - no off-topic discussion, but you can chat about the products and their history). \"\n",
    "    \"The customer will place an order for 1 or more items from the menu, which you will structure \"\n",
    "    \"and send to the ordering system after confirming the order with the human. \"\n",
    "    \"\\n\\n\"\n",
    "    \"Add items to the customer's order with add_to_order, and reset the order with clear_order. \"\n",
    "    \"To see the contents of the order so far, call get_order (this is shown to you, not the user) \"\n",
    "    \"Always confirm_order with the user (double-check) before calling place_order. Calling confirm_order will \"\n",
    "    \"display the order items to the user and returns their response to seeing the list. Their response may contain modifications. \"\n",
    "    \"Always verify and respond with drink and modifier names from the MENU before adding them to the order. \"\n",
    "    \"If you are unsure a drink or modifier matches those on the MENU, ask a question to clarify or redirect. \"\n",
    "    \"You only have the modifiers listed on the menu. \"\n",
    "    \"Once the customer has finished ordering items, Call confirm_order to ensure it is correct then make \"\n",
    "    \"any necessary updates and then call place_order. Once place_order has returned, thank the user and \"\n",
    "    \"say goodbye!\",\n",
    ")\n",
    "\n",
    "# This is the message with which the system opens the conversation.\n",
    "WELCOME_MSG = \"Welcome to the BaristaBot cafe. Type `q` to quit. How may I serve you today?\""
   ]
  },
  {
   "cell_type": "markdown",
   "id": "2d8a39d6",
   "metadata": {
    "id": "PHkDsSI_NUp7",
    "papermill": {
     "duration": 0.008855,
     "end_time": "2024-11-13T07:59:32.873008",
     "exception": false,
     "start_time": "2024-11-13T07:59:32.864153",
     "status": "completed"
    },
    "tags": []
   },
   "source": [
    "## Define a single turn chatboot\n",
    "\n",
    "To illustrate how LangGraph works, the following program defines a chatbot node that will execute a single turn in a chat conversation using the instructions supplied.\n",
    "\n",
    "Each node in the graph operates on the state object. The state (a Python dictionary) is passed as a parameter into the node (a function) and the new state is returned. This can be restated as pseudo-code, where `state = node(state)`.\n",
    "\n",
    "Note: For the `chatbot` node, the state is updated by *adding* the new conversation message. The `add_messages` annotation on `OrderState.messages` indicates that messages are *appended* when returned from a node. Typically state is updated by replacement, but this annotation causes `messages` to behave differently."
   ]
  },
  {
   "cell_type": "code",
   "execution_count": 5,
   "id": "9570c2a9",
   "metadata": {
    "execution": {
     "iopub.execute_input": "2024-11-13T07:59:32.893459Z",
     "iopub.status.busy": "2024-11-13T07:59:32.892885Z",
     "iopub.status.idle": "2024-11-13T07:59:34.602865Z",
     "shell.execute_reply": "2024-11-13T07:59:34.601479Z"
    },
    "id": "Y359hoepjv6i",
    "papermill": {
     "duration": 1.723343,
     "end_time": "2024-11-13T07:59:34.605589",
     "exception": false,
     "start_time": "2024-11-13T07:59:32.882246",
     "status": "completed"
    },
    "tags": []
   },
   "outputs": [],
   "source": [
    "from langgraph.graph import StateGraph, START, END\n",
    "from langchain_google_genai import ChatGoogleGenerativeAI\n",
    "\n",
    "# Try using different models. The `pro` models perform the best, especially\n",
    "# with tool-calling. The `flash` models are super fast, and are a good choice\n",
    "# if you need to use the higher free-tier quota.\n",
    "# Check out the features and quota differences here: https://ai.google.dev/pricing\n",
    "llm = ChatGoogleGenerativeAI(model=\"gemini-1.5-flash-latest\")\n",
    "\n",
    "\n",
    "def chatbot(state: OrderState) -> OrderState:\n",
    "    \"\"\"The chatbot itself. A simple wrapper around the model's own chat interface.\"\"\"\n",
    "    message_history = [BARISTABOT_SYSINT] + state[\"messages\"]\n",
    "    return {\"messages\": [llm.invoke(message_history)]}\n",
    "\n",
    "\n",
    "# Set up the initial graph based on our state definition.\n",
    "graph_builder = StateGraph(OrderState)\n",
    "\n",
    "# Add the chatbot function to the app graph as a node called \"chatbot\".\n",
    "graph_builder.add_node(\"chatbot\", chatbot)\n",
    "\n",
    "# Define the chatbot node as the app entrypoint.\n",
    "graph_builder.add_edge(START, \"chatbot\")\n",
    "\n",
    "chat_graph = graph_builder.compile()"
   ]
  },
  {
   "cell_type": "markdown",
   "id": "d292df17",
   "metadata": {
    "id": "T796a7eMJIjB",
    "papermill": {
     "duration": 0.008686,
     "end_time": "2024-11-13T07:59:34.623632",
     "exception": false,
     "start_time": "2024-11-13T07:59:34.614946",
     "status": "completed"
    },
    "tags": []
   },
   "source": [
    "It can be helpful to visualise the graph you just defined. The following code renders the graph."
   ]
  },
  {
   "cell_type": "code",
   "execution_count": 6,
   "id": "535fb716",
   "metadata": {
    "execution": {
     "iopub.execute_input": "2024-11-13T07:59:34.643923Z",
     "iopub.status.busy": "2024-11-13T07:59:34.643306Z",
     "iopub.status.idle": "2024-11-13T07:59:34.704729Z",
     "shell.execute_reply": "2024-11-13T07:59:34.703485Z"
    },
    "id": "JP4vPWb1kPhG",
    "papermill": {
     "duration": 0.074518,
     "end_time": "2024-11-13T07:59:34.707389",
     "exception": false,
     "start_time": "2024-11-13T07:59:34.632871",
     "status": "completed"
    },
    "tags": []
   },
   "outputs": [
    {
     "data": {
      "image/png": "[encoded data removed]",
      "text/plain": [
       "<IPython.core.display.Image object>"
      ]
     },
     "execution_count": 6,
     "metadata": {},
     "output_type": "execute_result"
    }
   ],
   "source": [
    "from IPython.display import Image, display\n",
    "\n",
    "Image(chat_graph.get_graph().draw_mermaid_png())"
   ]
  },
  {
   "cell_type": "markdown",
   "id": "420e80f9",
   "metadata": {
    "id": "SZtG6b8vJTSl",
    "papermill": {
     "duration": 0.009301,
     "end_time": "2024-11-13T07:59:34.726193",
     "exception": false,
     "start_time": "2024-11-13T07:59:34.716892",
     "status": "completed"
    },
    "tags": []
   },
   "source": [
    "Now that the graph is defined, you can run it. It only has one node, and one transition into that node, so it will transition from `__start__` to `chatbot`, execute the `chatbot` node, and terminate.\n",
    "\n",
    "To run the graph, you call `invoke` and pass an initial state object. In this case it begins with the user's initial message."
   ]
  },
  {
   "cell_type": "code",
   "execution_count": 7,
   "id": "b4cb9f86",
   "metadata": {
    "execution": {
     "iopub.execute_input": "2024-11-13T07:59:34.747038Z",
     "iopub.status.busy": "2024-11-13T07:59:34.746592Z",
     "iopub.status.idle": "2024-11-13T07:59:35.223474Z",
     "shell.execute_reply": "2024-11-13T07:59:35.222186Z"
    },
    "id": "swkexnSoO3RU",
    "papermill": {
     "duration": 0.490479,
     "end_time": "2024-11-13T07:59:35.226261",
     "exception": false,
     "start_time": "2024-11-13T07:59:34.735782",
     "status": "completed"
    },
    "tags": []
   },
   "outputs": [
    {
     "name": "stdout",
     "output_type": "stream",
     "text": [
      "HumanMessage: Hello, what can you do?\n",
      "AIMessage: Welcome to BaristaBot! I can help you order delicious coffee and other beverages. What can I get for you today? \n",
      "\n"
     ]
    }
   ],
   "source": [
    "from pprint import pprint\n",
    "\n",
    "user_msg = \"Hello, what can you do?\"\n",
    "state = chat_graph.invoke({\"messages\": [user_msg]})\n",
    "\n",
    "# The state object contains lots of information. Uncomment the pprint lines to see it all.\n",
    "# pprint(state)\n",
    "\n",
    "# Note that the final state now has 2 messages. Our HumanMessage, and an additional AIMessage.\n",
    "for msg in state[\"messages\"]:\n",
    "    print(f\"{type(msg).__name__}: {msg.content}\")"
   ]
  },
  {
   "cell_type": "markdown",
   "id": "9d35c7b0",
   "metadata": {
    "id": "dsczQNk9PVlJ",
    "papermill": {
     "duration": 0.009129,
     "end_time": "2024-11-13T07:59:35.245087",
     "exception": false,
     "start_time": "2024-11-13T07:59:35.235958",
     "status": "completed"
    },
    "tags": []
   },
   "source": [
    "You could execute this in a Python loop, but for simplicity, manually invoke one more conversational turn. This second invocation takes the state from the first call and appends another user message to elicit another response from the chatbot."
   ]
  },
  {
   "cell_type": "code",
   "execution_count": 8,
   "id": "0804b7a3",
   "metadata": {
    "execution": {
     "iopub.execute_input": "2024-11-13T07:59:35.265857Z",
     "iopub.status.busy": "2024-11-13T07:59:35.265364Z",
     "iopub.status.idle": "2024-11-13T07:59:36.032411Z",
     "shell.execute_reply": "2024-11-13T07:59:36.031153Z"
    },
    "id": "OKGonO42Pe43",
    "papermill": {
     "duration": 0.78009,
     "end_time": "2024-11-13T07:59:36.034752",
     "exception": false,
     "start_time": "2024-11-13T07:59:35.254662",
     "status": "completed"
    },
    "tags": []
   },
   "outputs": [
    {
     "name": "stdout",
     "output_type": "stream",
     "text": [
      "HumanMessage: Hello, what can you do?\n",
      "AIMessage: Welcome to BaristaBot! I can help you order delicious coffee and other beverages. What can I get for you today? \n",
      "\n",
      "HumanMessage: Oh great, what kinds of latte can you make?\n",
      "AIMessage: We have a variety of lattes! We have our classic Latte, a Caramel Latte, a Vanilla Latte, a Mocha Latte, and a London Fog Latte.  Which one sounds good to you today? \n",
      "\n"
     ]
    }
   ],
   "source": [
    "user_msg = \"Oh great, what kinds of latte can you make?\"\n",
    "\n",
    "state[\"messages\"].append(user_msg)\n",
    "state = chat_graph.invoke(state)\n",
    "\n",
    "# pprint(state)\n",
    "for msg in state[\"messages\"]:\n",
    "    print(f\"{type(msg).__name__}: {msg.content}\")"
   ]
  },
  {
   "cell_type": "markdown",
   "id": "01b240c8",
   "metadata": {
    "id": "v4oN47R89Rx-",
    "papermill": {
     "duration": 0.009253,
     "end_time": "2024-11-13T07:59:36.053683",
     "exception": false,
     "start_time": "2024-11-13T07:59:36.044430",
     "status": "completed"
    },
    "tags": []
   },
   "source": [
    "## Add a human node\n",
    "\n",
    "Instead of repeatedly running the \"graph\" in a Python loop, you can use LangGraph to loop between nodes.\n",
    "\n",
    "The `human` node will display the last message from the LLM to the user, and then prompt them for their next input. Here this is done using standard Python `print` and `input` functions, but for a real cafe situation, you could render the chat to a display or audio, and accept input from a mic or on-screen keyboard.\n",
    "\n",
    "The `chatbot` node function has also been updated to include the welcome message to start the conversation."
   ]
  },
  {
   "cell_type": "code",
   "execution_count": 9,
   "id": "da5c1f5a",
   "metadata": {
    "execution": {
     "iopub.execute_input": "2024-11-13T07:59:36.074649Z",
     "iopub.status.busy": "2024-11-13T07:59:36.074227Z",
     "iopub.status.idle": "2024-11-13T07:59:36.085162Z",
     "shell.execute_reply": "2024-11-13T07:59:36.084120Z"
    },
    "id": "UtOpn68ospVj",
    "papermill": {
     "duration": 0.024178,
     "end_time": "2024-11-13T07:59:36.087522",
     "exception": false,
     "start_time": "2024-11-13T07:59:36.063344",
     "status": "completed"
    },
    "tags": []
   },
   "outputs": [],
   "source": [
    "from langchain_core.messages.ai import AIMessage\n",
    "\n",
    "\n",
    "def human_node(state: OrderState) -> OrderState:\n",
    "    \"\"\"Display the last model message to the user, and receive the user's input.\"\"\"\n",
    "    last_msg = state[\"messages\"][-1]\n",
    "    print(\"Model:\", last_msg.content)\n",
    "\n",
    "    user_input = input(\"User: \")\n",
    "\n",
    "    # If it looks like the user is trying to quit, flag the conversation\n",
    "    # as over.\n",
    "    if user_input in {\"q\", \"quit\", \"exit\", \"goodbye\"}:\n",
    "        state[\"finished\"] = True\n",
    "\n",
    "    return state | {\"messages\": [(\"user\", user_input)]}\n",
    "\n",
    "\n",
    "def chatbot_with_welcome_msg(state: OrderState) -> OrderState:\n",
    "    \"\"\"The chatbot itself. A wrapper around the model's own chat interface.\"\"\"\n",
    "\n",
    "    if state[\"messages\"]:\n",
    "        # If there are messages, continue the conversation with the Gemini model.\n",
    "        new_output = llm.invoke([BARISTABOT_SYSINT] + state[\"messages\"])\n",
    "    else:\n",
    "        # If there are no messages, start with the welcome message.\n",
    "        new_output = AIMessage(content=WELCOME_MSG)\n",
    "\n",
    "    return state | {\"messages\": [new_output]}\n",
    "\n",
    "\n",
    "# Start building a new graph.\n",
    "graph_builder = StateGraph(OrderState)\n",
    "\n",
    "# Add the chatbot and human nodes to the app graph.\n",
    "graph_builder.add_node(\"chatbot\", chatbot_with_welcome_msg)\n",
    "graph_builder.add_node(\"human\", human_node)\n",
    "\n",
    "# Start with the chatbot again.\n",
    "graph_builder.add_edge(START, \"chatbot\")\n",
    "\n",
    "# The chatbot will always go to the human next.\n",
    "graph_builder.add_edge(\"chatbot\", \"human\");"
   ]
  },
  {
   "cell_type": "markdown",
   "id": "54140227",
   "metadata": {
    "id": "SWXwd1ITUSPF",
    "papermill": {
     "duration": 0.00973,
     "end_time": "2024-11-13T07:59:36.106921",
     "exception": false,
     "start_time": "2024-11-13T07:59:36.097191",
     "status": "completed"
    },
    "tags": []
   },
   "source": [
    "Before you can run this, note that if you added an edge from `human` back to `chatbot`, the graph will cycle forever as there is no exit condition. One way to break the cycle is to add a check for a human input like `q` or `quit` and use that to break the loop.\n",
    "\n",
    "In LangGraph, this is achieved with a conditional edge. This is similar to a regular graph transition, except a custom function is called to determine which edge to traverse.\n",
    "\n",
    "Conditional edge functions take the state as input, and return a string representing the name of the node to which it will transition."
   ]
  },
  {
   "cell_type": "code",
   "execution_count": 10,
   "id": "034c342c",
   "metadata": {
    "execution": {
     "iopub.execute_input": "2024-11-13T07:59:36.128770Z",
     "iopub.status.busy": "2024-11-13T07:59:36.128330Z",
     "iopub.status.idle": "2024-11-13T07:59:36.183296Z",
     "shell.execute_reply": "2024-11-13T07:59:36.182204Z"
    },
    "id": "6468OAgSU2He",
    "papermill": {
     "duration": 0.068328,
     "end_time": "2024-11-13T07:59:36.185689",
     "exception": false,
     "start_time": "2024-11-13T07:59:36.117361",
     "status": "completed"
    },
    "tags": []
   },
   "outputs": [
    {
     "data": {
      "image/png": "[encoded data removed]",
      "text/plain": [
       "<IPython.core.display.Image object>"
      ]
     },
     "execution_count": 10,
     "metadata": {},
     "output_type": "execute_result"
    }
   ],
   "source": [
    "from typing import Literal\n",
    "\n",
    "\n",
    "def maybe_exit_human_node(state: OrderState) -> Literal[\"chatbot\", \"__end__\"]:\n",
    "    \"\"\"Route to the chatbot, unless it looks like the user is exiting.\"\"\"\n",
    "    if state.get(\"finished\", False):\n",
    "        return END\n",
    "    else:\n",
    "        return \"chatbot\"\n",
    "\n",
    "\n",
    "graph_builder.add_conditional_edges(\"human\", maybe_exit_human_node)\n",
    "\n",
    "chat_with_human_graph = graph_builder.compile()\n",
    "\n",
    "Image(chat_with_human_graph.get_graph().draw_mermaid_png())"
   ]
  },
  {
   "cell_type": "markdown",
   "id": "a7658c49",
   "metadata": {
    "id": "yrQI6-3FS_op",
    "papermill": {
     "duration": 0.009912,
     "end_time": "2024-11-13T07:59:36.205632",
     "exception": false,
     "start_time": "2024-11-13T07:59:36.195720",
     "status": "completed"
    },
    "tags": []
   },
   "source": [
    "Run this new graph to see how the interaction loop is now captured within the graph. Input `quit` to exit the program.\n",
    "\n",
    "**You must uncomment the `.invoke(...)` line to run this step.**"
   ]
  },
  {
   "cell_type": "code",
   "execution_count": 11,
   "id": "5e796af4",
   "metadata": {
    "execution": {
     "iopub.execute_input": "2024-11-13T07:59:36.227536Z",
     "iopub.status.busy": "2024-11-13T07:59:36.226668Z",
     "iopub.status.idle": "2024-11-13T07:59:37.109517Z",
     "shell.execute_reply": "2024-11-13T07:59:37.107928Z"
    },
    "id": "udGNmyasTGJG",
    "papermill": {
     "duration": 0.896348,
     "end_time": "2024-11-13T07:59:37.111768",
     "exception": true,
     "start_time": "2024-11-13T07:59:36.215420",
     "status": "failed"
    },
    "tags": []
   },
   "outputs": [
    {
     "name": "stdout",
     "output_type": "stream",
     "text": [
      "Model: Welcome to the BaristaBot cafe. Type `q` to quit. How may I serve you today?\n"
     ]
    },
    {
     "ename": "StdinNotImplementedError",
     "evalue": "raw_input was called, but this frontend does not support input requests.",
     "output_type": "error",
     "traceback": [
      "\u001b[0;31m---------------------------------------------------------------------------\u001b[0m",
      "\u001b[0;31mStdinNotImplementedError\u001b[0m                  Traceback (most recent call last)",
      "Cell \u001b[0;32mIn[11], line 4\u001b[0m\n\u001b[1;32m      1\u001b[0m \u001b[38;5;66;03m# Remember that this will loop forever, unless you input `q`, `quit` or one of the\u001b[39;00m\n\u001b[1;32m      2\u001b[0m \u001b[38;5;66;03m# other exit terms defined in `human_node`.\u001b[39;00m\n\u001b[1;32m      3\u001b[0m \u001b[38;5;66;03m# Uncomment this line to execute the graph:\u001b[39;00m\n\u001b[0;32m----> 4\u001b[0m state \u001b[38;5;241m=\u001b[39m \u001b[43mchat_with_human_graph\u001b[49m\u001b[38;5;241;43m.\u001b[39;49m\u001b[43minvoke\u001b[49m\u001b[43m(\u001b[49m\u001b[43m{\u001b[49m\u001b[38;5;124;43m\"\u001b[39;49m\u001b[38;5;124;43mmessages\u001b[39;49m\u001b[38;5;124;43m\"\u001b[39;49m\u001b[43m:\u001b[49m\u001b[43m \u001b[49m\u001b[43m[\u001b[49m\u001b[43m]\u001b[49m\u001b[43m}\u001b[49m\u001b[43m)\u001b[49m\n\u001b[1;32m      6\u001b[0m \u001b[38;5;66;03m# Things to try:\u001b[39;00m\n\u001b[1;32m      7\u001b[0m \u001b[38;5;66;03m#  - Just chat! There's no ordering or menu yet.\u001b[39;00m\n\u001b[1;32m      8\u001b[0m \u001b[38;5;66;03m#  - 'q' to exit.\u001b[39;00m\n\u001b[1;32m     10\u001b[0m pprint(state)\n",
      "File \u001b[0;32m/opt/conda/lib/python3.10/site-packages/langgraph/pregel/__init__.py:1608\u001b[0m, in \u001b[0;36mPregel.invoke\u001b[0;34m(self, input, config, stream_mode, output_keys, interrupt_before, interrupt_after, debug, **kwargs)\u001b[0m\n\u001b[1;32m   1606\u001b[0m \u001b[38;5;28;01melse\u001b[39;00m:\n\u001b[1;32m   1607\u001b[0m     chunks \u001b[38;5;241m=\u001b[39m []\n\u001b[0;32m-> 1608\u001b[0m \u001b[38;5;28;01mfor\u001b[39;00m chunk \u001b[38;5;129;01min\u001b[39;00m \u001b[38;5;28mself\u001b[39m\u001b[38;5;241m.\u001b[39mstream(\n\u001b[1;32m   1609\u001b[0m     \u001b[38;5;28minput\u001b[39m,\n\u001b[1;32m   1610\u001b[0m     config,\n\u001b[1;32m   1611\u001b[0m     stream_mode\u001b[38;5;241m=\u001b[39mstream_mode,\n\u001b[1;32m   1612\u001b[0m     output_keys\u001b[38;5;241m=\u001b[39moutput_keys,\n\u001b[1;32m   1613\u001b[0m     interrupt_before\u001b[38;5;241m=\u001b[39minterrupt_before,\n\u001b[1;32m   1614\u001b[0m     interrupt_after\u001b[38;5;241m=\u001b[39minterrupt_after,\n\u001b[1;32m   1615\u001b[0m     debug\u001b[38;5;241m=\u001b[39mdebug,\n\u001b[1;32m   1616\u001b[0m     \u001b[38;5;241m*\u001b[39m\u001b[38;5;241m*\u001b[39mkwargs,\n\u001b[1;32m   1617\u001b[0m ):\n\u001b[1;32m   1618\u001b[0m     \u001b[38;5;28;01mif\u001b[39;00m stream_mode \u001b[38;5;241m==\u001b[39m \u001b[38;5;124m\"\u001b[39m\u001b[38;5;124mvalues\u001b[39m\u001b[38;5;124m\"\u001b[39m:\n\u001b[1;32m   1619\u001b[0m         latest \u001b[38;5;241m=\u001b[39m chunk\n",
      "File \u001b[0;32m/opt/conda/lib/python3.10/site-packages/langgraph/pregel/__init__.py:1336\u001b[0m, in \u001b[0;36mPregel.stream\u001b[0;34m(self, input, config, stream_mode, output_keys, interrupt_before, interrupt_after, debug, subgraphs)\u001b[0m\n\u001b[1;32m   1325\u001b[0m     \u001b[38;5;66;03m# Similarly to Bulk Synchronous Parallel / Pregel model\u001b[39;00m\n\u001b[1;32m   1326\u001b[0m     \u001b[38;5;66;03m# computation proceeds in steps, while there are channel updates\u001b[39;00m\n\u001b[1;32m   1327\u001b[0m     \u001b[38;5;66;03m# channel updates from step N are only visible in step N+1\u001b[39;00m\n\u001b[1;32m   1328\u001b[0m     \u001b[38;5;66;03m# channels are guaranteed to be immutable for the duration of the step,\u001b[39;00m\n\u001b[1;32m   1329\u001b[0m     \u001b[38;5;66;03m# with channel updates applied only at the transition between steps\u001b[39;00m\n\u001b[1;32m   1330\u001b[0m     \u001b[38;5;28;01mwhile\u001b[39;00m loop\u001b[38;5;241m.\u001b[39mtick(\n\u001b[1;32m   1331\u001b[0m         input_keys\u001b[38;5;241m=\u001b[39m\u001b[38;5;28mself\u001b[39m\u001b[38;5;241m.\u001b[39minput_channels,\n\u001b[1;32m   1332\u001b[0m         interrupt_before\u001b[38;5;241m=\u001b[39minterrupt_before_,\n\u001b[1;32m   1333\u001b[0m         interrupt_after\u001b[38;5;241m=\u001b[39minterrupt_after_,\n\u001b[1;32m   1334\u001b[0m         manager\u001b[38;5;241m=\u001b[39mrun_manager,\n\u001b[1;32m   1335\u001b[0m     ):\n\u001b[0;32m-> 1336\u001b[0m         \u001b[38;5;28;01mfor\u001b[39;00m _ \u001b[38;5;129;01min\u001b[39;00m runner\u001b[38;5;241m.\u001b[39mtick(\n\u001b[1;32m   1337\u001b[0m             loop\u001b[38;5;241m.\u001b[39mtasks\u001b[38;5;241m.\u001b[39mvalues(),\n\u001b[1;32m   1338\u001b[0m             timeout\u001b[38;5;241m=\u001b[39m\u001b[38;5;28mself\u001b[39m\u001b[38;5;241m.\u001b[39mstep_timeout,\n\u001b[1;32m   1339\u001b[0m             retry_policy\u001b[38;5;241m=\u001b[39m\u001b[38;5;28mself\u001b[39m\u001b[38;5;241m.\u001b[39mretry_policy,\n\u001b[1;32m   1340\u001b[0m             get_waiter\u001b[38;5;241m=\u001b[39mget_waiter,\n\u001b[1;32m   1341\u001b[0m         ):\n\u001b[1;32m   1342\u001b[0m             \u001b[38;5;66;03m# emit output\u001b[39;00m\n\u001b[1;32m   1343\u001b[0m             \u001b[38;5;28;01myield from\u001b[39;00m output()\n\u001b[1;32m   1344\u001b[0m \u001b[38;5;66;03m# emit output\u001b[39;00m\n",
      "File \u001b[0;32m/opt/conda/lib/python3.10/site-packages/langgraph/pregel/runner.py:58\u001b[0m, in \u001b[0;36mPregelRunner.tick\u001b[0;34m(self, tasks, reraise, timeout, retry_policy, get_waiter)\u001b[0m\n\u001b[1;32m     56\u001b[0m t \u001b[38;5;241m=\u001b[39m tasks[\u001b[38;5;241m0\u001b[39m]\n\u001b[1;32m     57\u001b[0m \u001b[38;5;28;01mtry\u001b[39;00m:\n\u001b[0;32m---> 58\u001b[0m     \u001b[43mrun_with_retry\u001b[49m\u001b[43m(\u001b[49m\u001b[43mt\u001b[49m\u001b[43m,\u001b[49m\u001b[43m \u001b[49m\u001b[43mretry_policy\u001b[49m\u001b[43m)\u001b[49m\n\u001b[1;32m     59\u001b[0m     \u001b[38;5;28mself\u001b[39m\u001b[38;5;241m.\u001b[39mcommit(t, \u001b[38;5;28;01mNone\u001b[39;00m)\n\u001b[1;32m     60\u001b[0m \u001b[38;5;28;01mexcept\u001b[39;00m \u001b[38;5;167;01mException\u001b[39;00m \u001b[38;5;28;01mas\u001b[39;00m exc:\n",
      "File \u001b[0;32m/opt/conda/lib/python3.10/site-packages/langgraph/pregel/retry.py:29\u001b[0m, in \u001b[0;36mrun_with_retry\u001b[0;34m(task, retry_policy)\u001b[0m\n\u001b[1;32m     27\u001b[0m task\u001b[38;5;241m.\u001b[39mwrites\u001b[38;5;241m.\u001b[39mclear()\n\u001b[1;32m     28\u001b[0m \u001b[38;5;66;03m# run the task\u001b[39;00m\n\u001b[0;32m---> 29\u001b[0m \u001b[43mtask\u001b[49m\u001b[38;5;241;43m.\u001b[39;49m\u001b[43mproc\u001b[49m\u001b[38;5;241;43m.\u001b[39;49m\u001b[43minvoke\u001b[49m\u001b[43m(\u001b[49m\u001b[43mtask\u001b[49m\u001b[38;5;241;43m.\u001b[39;49m\u001b[43minput\u001b[49m\u001b[43m,\u001b[49m\u001b[43m \u001b[49m\u001b[43mconfig\u001b[49m\u001b[43m)\u001b[49m\n\u001b[1;32m     30\u001b[0m \u001b[38;5;66;03m# if successful, end\u001b[39;00m\n\u001b[1;32m     31\u001b[0m \u001b[38;5;28;01mbreak\u001b[39;00m\n",
      "File \u001b[0;32m/opt/conda/lib/python3.10/site-packages/langgraph/utils/runnable.py:410\u001b[0m, in \u001b[0;36mRunnableSeq.invoke\u001b[0;34m(self, input, config, **kwargs)\u001b[0m\n\u001b[1;32m    408\u001b[0m context\u001b[38;5;241m.\u001b[39mrun(_set_config_context, config)\n\u001b[1;32m    409\u001b[0m \u001b[38;5;28;01mif\u001b[39;00m i \u001b[38;5;241m==\u001b[39m \u001b[38;5;241m0\u001b[39m:\n\u001b[0;32m--> 410\u001b[0m     \u001b[38;5;28minput\u001b[39m \u001b[38;5;241m=\u001b[39m \u001b[43mcontext\u001b[49m\u001b[38;5;241;43m.\u001b[39;49m\u001b[43mrun\u001b[49m\u001b[43m(\u001b[49m\u001b[43mstep\u001b[49m\u001b[38;5;241;43m.\u001b[39;49m\u001b[43minvoke\u001b[49m\u001b[43m,\u001b[49m\u001b[43m \u001b[49m\u001b[38;5;28;43minput\u001b[39;49m\u001b[43m,\u001b[49m\u001b[43m \u001b[49m\u001b[43mconfig\u001b[49m\u001b[43m,\u001b[49m\u001b[43m \u001b[49m\u001b[38;5;241;43m*\u001b[39;49m\u001b[38;5;241;43m*\u001b[39;49m\u001b[43mkwargs\u001b[49m\u001b[43m)\u001b[49m\n\u001b[1;32m    411\u001b[0m \u001b[38;5;28;01melse\u001b[39;00m:\n\u001b[1;32m    412\u001b[0m     \u001b[38;5;28minput\u001b[39m \u001b[38;5;241m=\u001b[39m context\u001b[38;5;241m.\u001b[39mrun(step\u001b[38;5;241m.\u001b[39minvoke, \u001b[38;5;28minput\u001b[39m, config)\n",
      "File \u001b[0;32m/opt/conda/lib/python3.10/site-packages/langgraph/utils/runnable.py:184\u001b[0m, in \u001b[0;36mRunnableCallable.invoke\u001b[0;34m(self, input, config, **kwargs)\u001b[0m\n\u001b[1;32m    182\u001b[0m \u001b[38;5;28;01melse\u001b[39;00m:\n\u001b[1;32m    183\u001b[0m     context\u001b[38;5;241m.\u001b[39mrun(_set_config_context, config)\n\u001b[0;32m--> 184\u001b[0m     ret \u001b[38;5;241m=\u001b[39m \u001b[43mcontext\u001b[49m\u001b[38;5;241;43m.\u001b[39;49m\u001b[43mrun\u001b[49m\u001b[43m(\u001b[49m\u001b[38;5;28;43mself\u001b[39;49m\u001b[38;5;241;43m.\u001b[39;49m\u001b[43mfunc\u001b[49m\u001b[43m,\u001b[49m\u001b[43m \u001b[49m\u001b[38;5;28;43minput\u001b[39;49m\u001b[43m,\u001b[49m\u001b[43m \u001b[49m\u001b[38;5;241;43m*\u001b[39;49m\u001b[38;5;241;43m*\u001b[39;49m\u001b[43mkwargs\u001b[49m\u001b[43m)\u001b[49m\n\u001b[1;32m    185\u001b[0m \u001b[38;5;28;01mif\u001b[39;00m \u001b[38;5;28misinstance\u001b[39m(ret, Runnable) \u001b[38;5;129;01mand\u001b[39;00m \u001b[38;5;28mself\u001b[39m\u001b[38;5;241m.\u001b[39mrecurse:\n\u001b[1;32m    186\u001b[0m     \u001b[38;5;28;01mreturn\u001b[39;00m ret\u001b[38;5;241m.\u001b[39minvoke(\u001b[38;5;28minput\u001b[39m, config)\n",
      "Cell \u001b[0;32mIn[9], line 9\u001b[0m, in \u001b[0;36mhuman_node\u001b[0;34m(state)\u001b[0m\n\u001b[1;32m      6\u001b[0m last_msg \u001b[38;5;241m=\u001b[39m state[\u001b[38;5;124m\"\u001b[39m\u001b[38;5;124mmessages\u001b[39m\u001b[38;5;124m\"\u001b[39m][\u001b[38;5;241m-\u001b[39m\u001b[38;5;241m1\u001b[39m]\n\u001b[1;32m      7\u001b[0m \u001b[38;5;28mprint\u001b[39m(\u001b[38;5;124m\"\u001b[39m\u001b[38;5;124mModel:\u001b[39m\u001b[38;5;124m\"\u001b[39m, last_msg\u001b[38;5;241m.\u001b[39mcontent)\n\u001b[0;32m----> 9\u001b[0m user_input \u001b[38;5;241m=\u001b[39m \u001b[38;5;28;43minput\u001b[39;49m\u001b[43m(\u001b[49m\u001b[38;5;124;43m\"\u001b[39;49m\u001b[38;5;124;43mUser: \u001b[39;49m\u001b[38;5;124;43m\"\u001b[39;49m\u001b[43m)\u001b[49m\n\u001b[1;32m     11\u001b[0m \u001b[38;5;66;03m# If it looks like the user is trying to quit, flag the conversation\u001b[39;00m\n\u001b[1;32m     12\u001b[0m \u001b[38;5;66;03m# as over.\u001b[39;00m\n\u001b[1;32m     13\u001b[0m \u001b[38;5;28;01mif\u001b[39;00m user_input \u001b[38;5;129;01min\u001b[39;00m {\u001b[38;5;124m\"\u001b[39m\u001b[38;5;124mq\u001b[39m\u001b[38;5;124m\"\u001b[39m, \u001b[38;5;124m\"\u001b[39m\u001b[38;5;124mquit\u001b[39m\u001b[38;5;124m\"\u001b[39m, \u001b[38;5;124m\"\u001b[39m\u001b[38;5;124mexit\u001b[39m\u001b[38;5;124m\"\u001b[39m, \u001b[38;5;124m\"\u001b[39m\u001b[38;5;124mgoodbye\u001b[39m\u001b[38;5;124m\"\u001b[39m}:\n",
      "File \u001b[0;32m/opt/conda/lib/python3.10/site-packages/ipykernel/kernelbase.py:1281\u001b[0m, in \u001b[0;36mKernel.raw_input\u001b[0;34m(self, prompt)\u001b[0m\n\u001b[1;32m   1279\u001b[0m \u001b[38;5;28;01mif\u001b[39;00m \u001b[38;5;129;01mnot\u001b[39;00m \u001b[38;5;28mself\u001b[39m\u001b[38;5;241m.\u001b[39m_allow_stdin:\n\u001b[1;32m   1280\u001b[0m     msg \u001b[38;5;241m=\u001b[39m \u001b[38;5;124m\"\u001b[39m\u001b[38;5;124mraw_input was called, but this frontend does not support input requests.\u001b[39m\u001b[38;5;124m\"\u001b[39m\n\u001b[0;32m-> 1281\u001b[0m     \u001b[38;5;28;01mraise\u001b[39;00m StdinNotImplementedError(msg)\n\u001b[1;32m   1282\u001b[0m \u001b[38;5;28;01mreturn\u001b[39;00m \u001b[38;5;28mself\u001b[39m\u001b[38;5;241m.\u001b[39m_input_request(\n\u001b[1;32m   1283\u001b[0m     \u001b[38;5;28mstr\u001b[39m(prompt),\n\u001b[1;32m   1284\u001b[0m     \u001b[38;5;28mself\u001b[39m\u001b[38;5;241m.\u001b[39m_parent_ident[\u001b[38;5;124m\"\u001b[39m\u001b[38;5;124mshell\u001b[39m\u001b[38;5;124m\"\u001b[39m],\n\u001b[1;32m   1285\u001b[0m     \u001b[38;5;28mself\u001b[39m\u001b[38;5;241m.\u001b[39mget_parent(\u001b[38;5;124m\"\u001b[39m\u001b[38;5;124mshell\u001b[39m\u001b[38;5;124m\"\u001b[39m),\n\u001b[1;32m   1286\u001b[0m     password\u001b[38;5;241m=\u001b[39m\u001b[38;5;28;01mFalse\u001b[39;00m,\n\u001b[1;32m   1287\u001b[0m )\n",
      "\u001b[0;31mStdinNotImplementedError\u001b[0m: raw_input was called, but this frontend does not support input requests."
     ]
    }
   ],
   "source": [
    "# Remember that this will loop forever, unless you input `q`, `quit` or one of the\n",
    "# other exit terms defined in `human_node`.\n",
    "# Uncomment this line to execute the graph:\n",
    "state = chat_with_human_graph.invoke({\"messages\": []})\n",
    "\n",
    "# Things to try:\n",
    "#  - Just chat! There's no ordering or menu yet.\n",
    "#  - 'q' to exit.\n",
    "\n",
    "pprint(state)"
   ]
  },
  {
   "cell_type": "markdown",
   "id": "a7f0acb8",
   "metadata": {
    "id": "iwDFpJreW66e",
    "papermill": {
     "duration": null,
     "end_time": null,
     "exception": null,
     "start_time": null,
     "status": "pending"
    },
    "tags": []
   },
   "source": [
    "## Add a \"live\" menu\n",
    "\n",
    "BaristaBot currently has no awareness of the available items at the cafe, so it will hallucinate a menu. One option would be to hard-code a menu into the system prompt. This would work well, but to simulate a system where the menu is more dynamic and could respond to fluctuating stock levels, you will put the menu into a custom tool.\n",
    "\n",
    "There are two types of tools that this system will use. Stateless tools that can be run automatically, and stateful tools that modify the order. The \"get current menu\" tool is stateless, in that it does not make any changes to the live order, so it can be called automatically.\n",
    "\n",
    "In a LangGraph app, you can annotate Python functions as tools by applying the `@tools` annotation.\n",
    "\n"
   ]
  },
  {
   "cell_type": "code",
   "execution_count": null,
   "id": "10c5bd1a",
   "metadata": {
    "execution": {
     "iopub.execute_input": "2024-11-13T07:51:32.068329Z",
     "iopub.status.busy": "2024-11-13T07:51:32.067928Z",
     "iopub.status.idle": "2024-11-13T07:51:32.081010Z",
     "shell.execute_reply": "2024-11-13T07:51:32.079741Z",
     "shell.execute_reply.started": "2024-11-13T07:51:32.068293Z"
    },
    "id": "hG1n6mNFHsYW",
    "papermill": {
     "duration": null,
     "end_time": null,
     "exception": null,
     "start_time": null,
     "status": "pending"
    },
    "tags": []
   },
   "outputs": [],
   "source": [
    "from langchain_core.tools import tool\n",
    "\n",
    "\n",
    "@tool\n",
    "def get_menu() -> str:\n",
    "    \"\"\"Provide the latest up-to-date menu.\"\"\"\n",
    "    # Note that this is just hard-coded text, but you could connect this to a live stock\n",
    "    # database, or you could use Gemini's multi-modal capabilities and take live photos of\n",
    "    # your cafe's chalk menu or the products on the counter and assmble them into an input.\n",
    "\n",
    "    return \"\"\"\n",
    "    MENU:\n",
    "    Coffee Drinks:\n",
    "    Espresso\n",
    "    Americano\n",
    "    Cold Brew\n",
    "\n",
    "    Coffee Drinks with Milk:\n",
    "    Latte\n",
    "    Cappuccino\n",
    "    Cortado\n",
    "    Macchiato\n",
    "    Mocha\n",
    "    Flat White\n",
    "\n",
    "    Tea Drinks:\n",
    "    English Breakfast Tea\n",
    "    Green Tea\n",
    "    Earl Grey\n",
    "\n",
    "    Tea Drinks with Milk:\n",
    "    Chai Latte\n",
    "    Matcha Latte\n",
    "    London Fog\n",
    "\n",
    "    Other Drinks:\n",
    "    Steamer\n",
    "    Hot Chocolate\n",
    "\n",
    "    Modifiers:\n",
    "    Milk options: Whole, 2%, Oat, Almond, 2% Lactose Free; Default option: whole\n",
    "    Espresso shots: Single, Double, Triple, Quadruple; default: Double\n",
    "    Caffeine: Decaf, Regular; default: Regular\n",
    "    Hot-Iced: Hot, Iced; Default: Hot\n",
    "    Sweeteners (option to add one or more): vanilla sweetener, hazelnut sweetener, caramel sauce, chocolate sauce, sugar free vanilla sweetener\n",
    "    Special requests: any reasonable modification that does not involve items not on the menu, for example: 'extra hot', 'one pump', 'half caff', 'extra foam', etc.\n",
    "\n",
    "    \"dirty\" means add a shot of espresso to a drink that doesn't usually have it, like \"Dirty Chai Latte\".\n",
    "    \"Regular milk\" is the same as 'whole milk'.\n",
    "    \"Sweetened\" means add some regular sugar, not a sweetener.\n",
    "\n",
    "    Soy milk has run out of stock today, so soy is not available.\n",
    "  \"\"\""
   ]
  },
  {
   "cell_type": "markdown",
   "id": "ef29af6a",
   "metadata": {
    "id": "W82wDfAH-RMU",
    "papermill": {
     "duration": null,
     "end_time": null,
     "exception": null,
     "start_time": null,
     "status": "pending"
    },
    "tags": []
   },
   "source": [
    "Now add the new tool to the graph. The `get_menu` tool is wrapped in a [`ToolNode`](https://langchain-ai.github.io/langgraph/reference/prebuilt/#toolnode) that handles calling the tool and passing the response as a message through the graph. The tools are also bound to the `llm` object so that the underlying model knows they exist. As you now have a different `llm` object to invoke, you need to update the `chatbot` node so that it is aware of the tools.\n"
   ]
  },
  {
   "cell_type": "code",
   "execution_count": null,
   "id": "15577df0",
   "metadata": {
    "execution": {
     "iopub.execute_input": "2024-11-13T07:51:46.062188Z",
     "iopub.status.busy": "2024-11-13T07:51:46.061799Z",
     "iopub.status.idle": "2024-11-13T07:51:46.282392Z",
     "shell.execute_reply": "2024-11-13T07:51:46.281198Z",
     "shell.execute_reply.started": "2024-11-13T07:51:46.062155Z"
    },
    "id": "KJVZGC2TlKqj",
    "papermill": {
     "duration": null,
     "end_time": null,
     "exception": null,
     "start_time": null,
     "status": "pending"
    },
    "tags": []
   },
   "outputs": [],
   "source": [
    "from langgraph.prebuilt import ToolNode\n",
    "\n",
    "\n",
    "# Define the tools and create a \"tools\" node.\n",
    "tools = [get_menu]\n",
    "tool_node = ToolNode(tools)\n",
    "\n",
    "# Attach the tools to the model so that it knows what it can call.\n",
    "llm_with_tools = llm.bind_tools(tools)\n",
    "\n",
    "\n",
    "def maybe_route_to_tools(state: OrderState) -> Literal[\"tools\", \"human\"]:\n",
    "    \"\"\"Route between human or tool nodes, depending if a tool call is made.\"\"\"\n",
    "    if not (msgs := state.get(\"messages\", [])):\n",
    "        raise ValueError(f\"No messages found when parsing state: {state}\")\n",
    "\n",
    "    # Only route based on the last message.\n",
    "    msg = msgs[-1]\n",
    "\n",
    "    # When the chatbot returns tool_calls, route to the \"tools\" node.\n",
    "    if hasattr(msg, \"tool_calls\") and len(msg.tool_calls) > 0:\n",
    "        return \"tools\"\n",
    "    else:\n",
    "        return \"human\"\n",
    "\n",
    "\n",
    "def chatbot_with_tools(state: OrderState) -> OrderState:\n",
    "    \"\"\"The chatbot with tools. A simple wrapper around the model's own chat interface.\"\"\"\n",
    "    defaults = {\"order\": [], \"finished\": False}\n",
    "\n",
    "    if state[\"messages\"]:\n",
    "        new_output = llm_with_tools.invoke([BARISTABOT_SYSINT] + state[\"messages\"])\n",
    "    else:\n",
    "        new_output = AIMessage(content=WELCOME_MSG)\n",
    "\n",
    "    # Set up some defaults if not already set, then pass through the provided state,\n",
    "    # overriding only the \"messages\" field.\n",
    "    return defaults | state | {\"messages\": [new_output]}\n",
    "\n",
    "\n",
    "graph_builder = StateGraph(OrderState)\n",
    "\n",
    "# Add the nodes, including the new tool_node.\n",
    "graph_builder.add_node(\"chatbot\", chatbot_with_tools)\n",
    "graph_builder.add_node(\"human\", human_node)\n",
    "graph_builder.add_node(\"tools\", tool_node)\n",
    "\n",
    "# Chatbot may go to tools, or human.\n",
    "graph_builder.add_conditional_edges(\"chatbot\", maybe_route_to_tools)\n",
    "# Human may go back to chatbot, or exit.\n",
    "graph_builder.add_conditional_edges(\"human\", maybe_exit_human_node)\n",
    "\n",
    "# Tools always route back to chat afterwards.\n",
    "graph_builder.add_edge(\"tools\", \"chatbot\")\n",
    "\n",
    "graph_builder.add_edge(START, \"chatbot\")\n",
    "graph_with_menu = graph_builder.compile()\n",
    "\n",
    "Image(graph_with_menu.get_graph().draw_mermaid_png())"
   ]
  },
  {
   "cell_type": "markdown",
   "id": "ca49cb15",
   "metadata": {
    "id": "kbFdxxWdauzz",
    "papermill": {
     "duration": null,
     "end_time": null,
     "exception": null,
     "start_time": null,
     "status": "pending"
    },
    "tags": []
   },
   "source": [
    "Now run the new graph to see how the model uses the menu.\n",
    "\n",
    "**You must uncomment the `.invoke(...)` line to run this step.**"
   ]
  },
  {
   "cell_type": "code",
   "execution_count": null,
   "id": "d68e3be7",
   "metadata": {
    "execution": {
     "iopub.execute_input": "2024-11-13T07:52:06.028158Z",
     "iopub.status.busy": "2024-11-13T07:52:06.027744Z",
     "iopub.status.idle": "2024-11-13T07:53:17.399828Z",
     "shell.execute_reply": "2024-11-13T07:53:17.398485Z",
     "shell.execute_reply.started": "2024-11-13T07:52:06.028120Z"
    },
    "id": "wcsVkMAApBGu",
    "papermill": {
     "duration": null,
     "end_time": null,
     "exception": null,
     "start_time": null,
     "status": "pending"
    },
    "tags": []
   },
   "outputs": [],
   "source": [
    "# Remember that you have not implemented ordering yet, so this will loop forever,\n",
    "# unless you input `q`, `quit` or one of the other exit terms defined in the\n",
    "# `human_node`.\n",
    "# Uncomment this line to execute the graph:\n",
    "state = graph_with_menu.invoke({\"messages\": []})\n",
    "\n",
    "# Things to try:\n",
    "# - I'd love an espresso drink, what have you got?\n",
    "# - What teas do you have?\n",
    "# - Can you do a long black? (this is on the menu as an \"Americano\" - see if it can figure it out)\n",
    "# - 'q' to exit.\n",
    "\n",
    "\n",
    "pprint(state)"
   ]
  },
  {
   "cell_type": "markdown",
   "id": "8680f751",
   "metadata": {
    "id": "ikO4M2fZDkyx",
    "papermill": {
     "duration": null,
     "end_time": null,
     "exception": null,
     "start_time": null,
     "status": "pending"
    },
    "tags": []
   },
   "source": [
    "## Handle orders\n",
    "\n",
    "To build up an order during the chat conversation, you will need to update the state to track the order, and provide simple tools that update this state. These need to be explicit as the model should not directly have access to the apps internal state, or it risks being manipulated arbitrarily.\n",
    "\n",
    "The ordering tools will be added as stubs in a separate node so that you can edit the state directly. Using the `@tool` annotation is still a handy way to define their schema, so the ordering tools below are implemented as empty Python functions."
   ]
  },
  {
   "cell_type": "code",
   "execution_count": null,
   "id": "24e2d1a9",
   "metadata": {
    "execution": {
     "iopub.execute_input": "2024-11-13T07:53:21.390050Z",
     "iopub.status.busy": "2024-11-13T07:53:21.389206Z",
     "iopub.status.idle": "2024-11-13T07:53:21.546935Z",
     "shell.execute_reply": "2024-11-13T07:53:21.545751Z",
     "shell.execute_reply.started": "2024-11-13T07:53:21.390001Z"
    },
    "id": "jqsLovPBQe0I",
    "papermill": {
     "duration": null,
     "end_time": null,
     "exception": null,
     "start_time": null,
     "status": "pending"
    },
    "tags": []
   },
   "outputs": [],
   "source": [
    "from collections.abc import Iterable\n",
    "from random import randint\n",
    "\n",
    "from langgraph.prebuilt import InjectedState\n",
    "from langchain_core.messages.tool import ToolMessage\n",
    "\n",
    "# These functions have no body; LangGraph does not allow @tools to update\n",
    "# the conversation state, so you will implement a separate node to handle\n",
    "# state updates. Using @tools is still very convenient for defining the tool\n",
    "# schema, so empty functions have been defined that will be bound to the LLM\n",
    "# but their implementation is deferred to the order_node.\n",
    "\n",
    "\n",
    "@tool\n",
    "def add_to_order(drink: str, modifiers: Iterable[str]) -> str:\n",
    "    \"\"\"Adds the specified drink to the customer's order, including any modifiers.\n",
    "\n",
    "    Returns:\n",
    "      The updated order in progress.\n",
    "    \"\"\"\n",
    "\n",
    "\n",
    "@tool\n",
    "def confirm_order() -> str:\n",
    "    \"\"\"Asks the customer if the order is correct.\n",
    "\n",
    "    Returns:\n",
    "      The user's free-text response.\n",
    "    \"\"\"\n",
    "\n",
    "\n",
    "@tool\n",
    "def get_order() -> str:\n",
    "    \"\"\"Returns the users order so far. One item per line.\"\"\"\n",
    "\n",
    "\n",
    "@tool\n",
    "def clear_order():\n",
    "    \"\"\"Removes all items from the user's order.\"\"\"\n",
    "\n",
    "\n",
    "@tool\n",
    "def place_order() -> int:\n",
    "    \"\"\"Sends the order to the barista for fulfillment.\n",
    "\n",
    "    Returns:\n",
    "      The estimated number of minutes until the order is ready.\n",
    "    \"\"\"\n",
    "\n",
    "\n",
    "def order_node(state: OrderState) -> OrderState:\n",
    "    \"\"\"The ordering node. This is where the order state is manipulated.\"\"\"\n",
    "    tool_msg = state.get(\"messages\", [])[-1]\n",
    "    order = state.get(\"order\", [])\n",
    "    outbound_msgs = []\n",
    "    order_placed = False\n",
    "\n",
    "    for tool_call in tool_msg.tool_calls:\n",
    "\n",
    "        if tool_call[\"name\"] == \"add_to_order\":\n",
    "\n",
    "            # Each order item is just a string. This is where it assembled as \"drink (modifiers, ...)\".\n",
    "            modifiers = tool_call[\"args\"][\"modifiers\"]\n",
    "            modifier_str = \", \".join(modifiers) if modifiers else \"no modifiers\"\n",
    "\n",
    "            order.append(f'{tool_call[\"args\"][\"drink\"]} ({modifier_str})')\n",
    "            response = \"\\n\".join(order)\n",
    "\n",
    "        elif tool_call[\"name\"] == \"confirm_order\":\n",
    "\n",
    "            # We could entrust the LLM to do order confirmation, but it is a good practice to\n",
    "            # show the user the exact data that comprises their order so that what they confirm\n",
    "            # precisely matches the order that goes to the kitchen - avoiding hallucination\n",
    "            # or reality skew.\n",
    "\n",
    "            # In a real scenario, this is where you would connect your POS screen to show the\n",
    "            # order to the user.\n",
    "\n",
    "            print(\"Your order:\")\n",
    "            if not order:\n",
    "                print(\"  (no items)\")\n",
    "\n",
    "            for drink in order:\n",
    "                print(f\"  {drink}\")\n",
    "\n",
    "            response = input(\"Is this correct? \")\n",
    "\n",
    "        elif tool_call[\"name\"] == \"get_order\":\n",
    "\n",
    "            response = \"\\n\".join(order) if order else \"(no order)\"\n",
    "\n",
    "        elif tool_call[\"name\"] == \"clear_order\":\n",
    "\n",
    "            order.clear()\n",
    "            response = None\n",
    "\n",
    "        elif tool_call[\"name\"] == \"place_order\":\n",
    "\n",
    "            order_text = \"\\n\".join(order)\n",
    "            print(\"Sending order to kitchen!\")\n",
    "            print(order_text)\n",
    "\n",
    "            # TODO(you!): Implement cafe.\n",
    "            order_placed = True\n",
    "            response = randint(1, 5)  # ETA in minutes\n",
    "\n",
    "        else:\n",
    "            raise NotImplementedError(f'Unknown tool call: {tool_call[\"name\"]}')\n",
    "\n",
    "        # Record the tool results as tool messages.\n",
    "        outbound_msgs.append(\n",
    "            ToolMessage(\n",
    "                content=response,\n",
    "                name=tool_call[\"name\"],\n",
    "                tool_call_id=tool_call[\"id\"],\n",
    "            )\n",
    "        )\n",
    "\n",
    "    return {\"messages\": outbound_msgs, \"order\": order, \"finished\": order_placed}\n",
    "\n",
    "\n",
    "def maybe_route_to_tools(state: OrderState) -> str:\n",
    "    \"\"\"Route between chat and tool nodes if a tool call is made.\"\"\"\n",
    "    if not (msgs := state.get(\"messages\", [])):\n",
    "        raise ValueError(f\"No messages found when parsing state: {state}\")\n",
    "\n",
    "    msg = msgs[-1]\n",
    "\n",
    "    if state.get(\"finished\", False):\n",
    "        # When an order is placed, exit the app. The system instruction indicates\n",
    "        # that the chatbot should say thanks and goodbye at this point, so we can exit\n",
    "        # cleanly.\n",
    "        return END\n",
    "\n",
    "    elif hasattr(msg, \"tool_calls\") and len(msg.tool_calls) > 0:\n",
    "        # Route to `tools` node for any automated tool calls first.\n",
    "        if any(\n",
    "            tool[\"name\"] in tool_node.tools_by_name.keys() for tool in msg.tool_calls\n",
    "        ):\n",
    "            return \"tools\"\n",
    "        else:\n",
    "            return \"ordering\"\n",
    "\n",
    "    else:\n",
    "        return \"human\""
   ]
  },
  {
   "cell_type": "markdown",
   "id": "e215b19e",
   "metadata": {
    "id": "UzfKW3lkxtS_",
    "papermill": {
     "duration": null,
     "end_time": null,
     "exception": null,
     "start_time": null,
     "status": "pending"
    },
    "tags": []
   },
   "source": [
    "Now define the graph. The LLM needs to know about the tools too, so that it can invoke them. Here you set up 2 sets of tools corresponding to the nodes under which they operate: automated and ordering."
   ]
  },
  {
   "cell_type": "code",
   "execution_count": null,
   "id": "f561cdbb",
   "metadata": {
    "execution": {
     "iopub.execute_input": "2024-11-13T07:53:31.296392Z",
     "iopub.status.busy": "2024-11-13T07:53:31.295984Z",
     "iopub.status.idle": "2024-11-13T07:53:31.361237Z",
     "shell.execute_reply": "2024-11-13T07:53:31.360066Z",
     "shell.execute_reply.started": "2024-11-13T07:53:31.296355Z"
    },
    "id": "9rqkQzlZxrzp",
    "papermill": {
     "duration": null,
     "end_time": null,
     "exception": null,
     "start_time": null,
     "status": "pending"
    },
    "tags": []
   },
   "outputs": [],
   "source": [
    "# Auto-tools will be invoked automatically by the ToolNode\n",
    "auto_tools = [get_menu]\n",
    "tool_node = ToolNode(auto_tools)\n",
    "\n",
    "# Order-tools will be handled by the order node.\n",
    "order_tools = [add_to_order, confirm_order, get_order, clear_order, place_order]\n",
    "\n",
    "# The LLM needs to know about all of the tools, so specify everything here.\n",
    "llm_with_tools = llm.bind_tools(auto_tools + order_tools)\n",
    "\n",
    "\n",
    "graph_builder = StateGraph(OrderState)\n",
    "\n",
    "# Nodes\n",
    "graph_builder.add_node(\"chatbot\", chatbot_with_tools)\n",
    "graph_builder.add_node(\"human\", human_node)\n",
    "graph_builder.add_node(\"tools\", tool_node)\n",
    "graph_builder.add_node(\"ordering\", order_node)\n",
    "\n",
    "# Chatbot -> {ordering, tools, human, END}\n",
    "graph_builder.add_conditional_edges(\"chatbot\", maybe_route_to_tools)\n",
    "# Human -> {chatbot, END}\n",
    "graph_builder.add_conditional_edges(\"human\", maybe_exit_human_node)\n",
    "\n",
    "# Tools (both kinds) always route back to chat afterwards.\n",
    "graph_builder.add_edge(\"tools\", \"chatbot\")\n",
    "graph_builder.add_edge(\"ordering\", \"chatbot\")\n",
    "\n",
    "graph_builder.add_edge(START, \"chatbot\")\n",
    "graph_with_order_tools = graph_builder.compile()\n",
    "\n",
    "Image(graph_with_order_tools.get_graph().draw_mermaid_png())"
   ]
  },
  {
   "cell_type": "markdown",
   "id": "78a48c7b",
   "metadata": {
    "id": "G0SVsDu4gD_T",
    "papermill": {
     "duration": null,
     "end_time": null,
     "exception": null,
     "start_time": null,
     "status": "pending"
    },
    "tags": []
   },
   "source": [
    "Now run the complete ordering system graph.\n",
    "\n",
    "**You must uncomment the `.invoke(...)` line to run this step.**"
   ]
  },
  {
   "cell_type": "code",
   "execution_count": null,
   "id": "64f98c9f",
   "metadata": {
    "execution": {
     "iopub.execute_input": "2024-11-13T07:55:38.946412Z",
     "iopub.status.busy": "2024-11-13T07:55:38.946006Z",
     "iopub.status.idle": "2024-11-13T07:57:16.689907Z",
     "shell.execute_reply": "2024-11-13T07:57:16.688548Z",
     "shell.execute_reply.started": "2024-11-13T07:55:38.946378Z"
    },
    "id": "NCRSgaBUfIHF",
    "papermill": {
     "duration": null,
     "end_time": null,
     "exception": null,
     "start_time": null,
     "status": "pending"
    },
    "tags": []
   },
   "outputs": [],
   "source": [
    "# The default recursion limit for traversing nodes is 25 - setting it higher\n",
    "# means you can try a more complex order with multiple steps and round-trips.\n",
    "config = {\"recursion_limit\": 100}\n",
    "\n",
    "# Uncomment this line to execute the graph:\n",
    "state = graph_with_order_tools.invoke({\"messages\": []}, config)\n",
    "\n",
    "# Things to try:\n",
    "# - Order a drink!\n",
    "# - Make a change to your order.\n",
    "# - \"Which teas are from England?\"\n",
    "# - Note that the graph should naturally exit after placing an order.\n",
    "\n",
    "pprint(state)"
   ]
  },
  {
   "cell_type": "markdown",
   "id": "4c8ae466",
   "metadata": {
    "id": "8KM4-akgEVSZ",
    "papermill": {
     "duration": null,
     "end_time": null,
     "exception": null,
     "start_time": null,
     "status": "pending"
    },
    "tags": []
   },
   "source": [
    "The order state has been captured both in the `place_order` function and in the final conversational state returned from executing the graph. This iillustrates how you can integrate your own systems to a graph app, as well as collect the final results of executing such an app."
   ]
  },
  {
   "cell_type": "code",
   "execution_count": null,
   "id": "e19c3ab3",
   "metadata": {
    "execution": {
     "iopub.execute_input": "2024-11-13T07:57:24.321445Z",
     "iopub.status.busy": "2024-11-13T07:57:24.320589Z",
     "iopub.status.idle": "2024-11-13T07:57:24.326978Z",
     "shell.execute_reply": "2024-11-13T07:57:24.325775Z",
     "shell.execute_reply.started": "2024-11-13T07:57:24.321401Z"
    },
    "id": "n4jUJCr3fJpy",
    "papermill": {
     "duration": null,
     "end_time": null,
     "exception": null,
     "start_time": null,
     "status": "pending"
    },
    "tags": []
   },
   "outputs": [],
   "source": [
    "# Uncomment this once you have run the graph from the previous cell.\n",
    "pprint(state[\"order\"])"
   ]
  },
  {
   "cell_type": "markdown",
   "id": "8b7d0e92",
   "metadata": {
    "id": "1BV4euQjRR4w",
    "papermill": {
     "duration": null,
     "end_time": null,
     "exception": null,
     "start_time": null,
     "status": "pending"
    },
    "tags": []
   },
   "source": [
    "## Further exercises\n",
    "\n",
    "Congratulations on building an agentic, human-in-the-loop, natural-language powered cafe ordering system using LangGraph and the Gemini API!\n",
    "\n",
    "This example app could be taken in many different directions. You should try and build out your own ideas, but for some inspiration, consider:\n",
    "\n",
    "* Adding more structure the order (`OrderState.order`) - e.g. separate fields for item, modifiers and even quantity.\n",
    "* Currently the model can only clear and re-add items, so add a function to `remove_item`s from the order.\n",
    "* Try building a UI that displays the in-progress order and hosts the chat. Frameworks like [Gradio](https://www.gradio.app/) or [Mesop](https://google.github.io/mesop/) are great for this.\n",
    "\n",
    "This system works well for a single person ordering, but agentic systems can interact with many sources. For a big stretch exercise, try and extend this app to run at a specific schedule, and contact your friends or colleagues over [Chat](https://developers.google.com/workspace/chat/api/reference/rest) to collect their daily coffee orders."
   ]
  }
 ],
 "metadata": {
  "colab": {
   "name": "day-3-building-an-agent-with-langgraph.ipynb",
   "toc_visible": true
  },
  "kaggle": {
   "accelerator": "none",
   "dataSources": [],
   "dockerImageVersionId": 30786,
   "isGpuEnabled": false,
   "isInternetEnabled": true,
   "language": "python",
   "sourceType": "notebook"
  },
  "kernelspec": {
   "display_name": "Python 3",
   "language": "python",
   "name": "python3"
  },
  "language_info": {
   "codemirror_mode": {
    "name": "ipython",
    "version": 3
   },
   "file_extension": ".py",
   "mimetype": "text/x-python",
   "name": "python",
   "nbconvert_exporter": "python",
   "pygments_lexer": "ipython3",
   "version": "3.10.14"
  },
  "papermill": {
   "default_parameters": {},
   "duration": 27.47353,
   "end_time": "2024-11-13T07:59:38.045209",
   "environment_variables": {},
   "exception": true,
   "input_path": "__notebook__.ipynb",
   "output_path": "__notebook__.ipynb",
   "parameters": {},
   "start_time": "2024-11-13T07:59:10.571679",
   "version": "2.6.0"
  }
 },
 "nbformat": 4,
 "nbformat_minor": 5
}
